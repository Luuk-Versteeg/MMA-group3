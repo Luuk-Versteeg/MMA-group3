{
 "cells": [
  {
   "cell_type": "markdown",
   "metadata": {},
   "source": [
    "# Tiny Llama\n",
    "#### Load packages"
   ]
  },
  {
   "cell_type": "code",
   "execution_count": 1,
   "metadata": {},
   "outputs": [],
   "source": [
    "import torch\n",
    "from transformers import pipeline\n",
    "\n",
    "# For bertviz\n",
    "from transformers import AutoModelForCausalLM, AutoTokenizer\n",
    "from transformers import utils\n",
    "from bertviz import model_view, head_view\n",
    "utils.logging.set_verbosity_error()  # Suppress standard warnings\n",
    "\n",
    "# For dataset\n",
    "from datasets import load_dataset\n",
    "from tqdm.notebook import tqdm\n",
    "\n",
    "# For confusion matrix\n",
    "from sklearn import metrics\n",
    "import matplotlib.pyplot as plt"
   ]
  },
  {
   "cell_type": "code",
   "execution_count": 2,
   "metadata": {},
   "outputs": [
    {
     "name": "stdout",
     "output_type": "stream",
     "text": [
      "True\n"
     ]
    }
   ],
   "source": [
    "print(torch.cuda.is_available())"
   ]
  },
  {
   "cell_type": "markdown",
   "metadata": {},
   "source": [
    "#### Load Tiny Llama Model"
   ]
  },
  {
   "cell_type": "code",
   "execution_count": 3,
   "metadata": {},
   "outputs": [],
   "source": [
    "pipe = pipeline(\"text-generation\", model=\"TinyLlama/TinyLlama-1.1B-Chat-v1.0\", torch_dtype=torch.bfloat16, device_map=\"auto\")\n",
    "# pipe = pipeline(\"text-generation\", model=\"TinyLlama/TinyLlama_v1.1\", torch_dtype=torch.bfloat16, device_map=\"auto\")\n",
    "\n",
    "# For bertviz\n",
    "# tokenizer = AutoTokenizer.from_pretrained(\"TinyLlama/TinyLlama-1.1B-Chat-v0.6\", trust_remote_code=True)\n",
    "# model = AutoModelForCausalLM.from_pretrained(\"TinyLlama/TinyLlama-1.1B-Chat-v0.6\", device_map=\"cpu\", trust_remote_code=True, attn_implementation=\"eager\").eval()"
   ]
  },
  {
   "cell_type": "code",
   "execution_count": 4,
   "metadata": {},
   "outputs": [],
   "source": [
    "# We use the tokenizer's chat template to format each message - see https://huggingface.co/docs/transformers/main/en/chat_templating\n",
    "# messages = [\n",
    "#     {\n",
    "#         \"role\": \"system\",\n",
    "#         \"content\": \"you're responeses are all lowercase\",\n",
    "#     },\n",
    "#     {\"role\": \"user\", \"content\": \"Write a poem about croissants.\"},\n",
    "# ]\n",
    "# prompt = pipe.tokenizer.apply_chat_template(messages, tokenize=False, add_generation_prompt=True)\n",
    "# outputs = pipe(prompt, max_new_tokens=50, do_sample=True, temperature=0.7, top_k=50, top_p=0.95)\n",
    "# print(outputs[0][\"generated_text\"])\n",
    "\n",
    "# def prompt(prompt_text: str, vis: bool = False):\n",
    "#     messages = [\n",
    "#     {\n",
    "#         \"role\": \"system\",\n",
    "#         \"content\": \"You answer multiple choice questions, therefore your answer must only contain either A, B or C.\",\n",
    "#     },\n",
    "#     {f\"role\": \"user\", \"content\": prompt_text},\n",
    "#     ]\n",
    "#     prompt = pipe.tokenizer.apply_chat_template(messages, tokenize=False, add_generation_prompt=True)\n",
    "#     outputs = pipe(prompt, max_new_tokens=20, do_sample=True, temperature=0.2, top_k=50, top_p=0.95)\n",
    "#     print(outputs[0][\"generated_text\"].split(\"<|assistant|>\")[1])\n",
    "#     print(type(outputs[0][\"generated_text\"]))\n",
    "#     if vis:\n",
    "#         inputs = tokenizer(prompt_text, return_tensors='pt')\n",
    "#         out = model(**inputs, output_attentions=True)\n",
    "#         attention = out['attentions']  # Retrieve attention from model outputs\n",
    "#         tokens = tokenizer.convert_ids_to_tokens(inputs['input_ids'][0])  # Convert input ids to token strings\n",
    "#         # tokens = [item.decode() for item in tokens] # byte to str\n",
    "#         head_view(attention, tokens)  # Display model view"
   ]
  },
  {
   "cell_type": "code",
   "execution_count": 18,
   "metadata": {},
   "outputs": [
    {
     "name": "stdout",
     "output_type": "stream",
     "text": [
      "\n",
      "The news text appears in the Business or C: Science and Technology section of a newspaper.\n",
      "<class 'str'>\n"
     ]
    }
   ],
   "source": [
    "# prompt1 = \"\"\"\n",
    "# Given this news text: Politics an Afterhought Amid Huricane (AP) AP - If Hurricane Charley had struck three years ago, President Bush's tour through the wreckage of this coastal city would have been just the sort of post-disaster visit that other presidents have made to the scenes of storms, earthquakes, floods and fires.\n",
    "\n",
    "# In which section of a newspaper would the text appear? A: World News, B: Business or C: Science and Technology\n",
    "# \"\"\"\n",
    "# prompt(prompt1, False)"
   ]
  },
  {
   "cell_type": "code",
   "execution_count": null,
   "metadata": {},
   "outputs": [],
   "source": [
    "prompt(\"write a poem\", False)"
   ]
  },
  {
   "cell_type": "markdown",
   "metadata": {},
   "source": [
    "#### Dataset"
   ]
  },
  {
   "cell_type": "code",
   "execution_count": 5,
   "metadata": {},
   "outputs": [],
   "source": [
    "# Load sentiment dataset\n",
    "glue_dataset = load_dataset(\"nyu-mll/glue\", \"sst2\", split=\"validation\")\n",
    "amazon_dataset = load_dataset(\"fancyzhx/amazon_polarity\", split=\"test\")\n",
    "ag_news_dataset = load_dataset(\"fancyzhx/ag_news\", split=\"test\")"
   ]
  },
  {
   "cell_type": "markdown",
   "metadata": {},
   "source": [
    "##### Sentiment dataset"
   ]
  },
  {
   "cell_type": "code",
   "execution_count": 4,
   "metadata": {},
   "outputs": [],
   "source": [
    "def sent_classifier(prompt: str, dataset, n_samples: int, shuffle: bool = True):\n",
    "    if shuffle: dataset = dataset.shuffle()\n",
    "    \n",
    "    sentences = dataset[\"content\"][:n_samples]\n",
    "    labels = dataset[\"label\"][:n_samples]\n",
    "    predicted_labels = []\n",
    "    for sentence in tqdm(sentences,total=n_samples):\n",
    "        prompt1 = prompt.replace(\"SENTENCE\", sentence)\n",
    "        messages = [\n",
    "        {\n",
    "            \"role\": \"system\",\n",
    "            \"content\": \"You classify sentences as possitive or negative.\",\n",
    "        },\n",
    "        {f\"role\": \"user\", \"content\": prompt1},\n",
    "        ]\n",
    "        prompt2 = pipe.tokenizer.apply_chat_template(messages, tokenize=False, add_generation_prompt=True)\n",
    "        outputs = pipe(prompt2, max_new_tokens=100, do_sample=True, temperature=0.7, top_k=50, top_p=0.95)\n",
    "        answer = outputs[0][\"generated_text\"].split(\"<|assistant|>\")[1]\n",
    "        # print(answer, \"\\n ------------------------------\")\n",
    "\n",
    "        answer = answer.lower()\n",
    "\n",
    "        if 'positive' in answer and 'negative' in answer:\n",
    "            # unknown\n",
    "            predicted_labels.append(-1) \n",
    "        elif 'positive' in answer:\n",
    "            # positive\n",
    "            predicted_labels.append(1)\n",
    "        elif 'negative' in answer:\n",
    "            # negative\n",
    "            predicted_labels.append(0)\n",
    "        else:\n",
    "            # unkown\n",
    "            predicted_labels.append(-1) \n",
    "\n",
    "    return predicted_labels, labels\n",
    "    "
   ]
  },
  {
   "cell_type": "code",
   "execution_count": 6,
   "metadata": {},
   "outputs": [
    {
     "data": {
      "application/vnd.jupyter.widget-view+json": {
       "model_id": "6e8bfe1db7ae4fd2b1d13a0b4359ac57",
       "version_major": 2,
       "version_minor": 0
      },
      "text/plain": [
       "  0%|          | 0/5 [00:00<?, ?it/s]"
      ]
     },
     "metadata": {},
     "output_type": "display_data"
    },
    {
     "data": {
      "image/png": "[encoded data removed]",
      "text/plain": [
       "<Figure size 640x480 with 2 Axes>"
      ]
     },
     "metadata": {},
     "output_type": "display_data"
    }
   ],
   "source": [
    "prompt1 = \"\"\"\n",
    "    Sentence: \" SENTENCE \"\n",
    "\n",
    "    Would you say this sentence is negative or positive?\n",
    "    \"\"\"\n",
    "\n",
    "predicted, labels = sent_classifier(prompt1, amazon_dataset, 5, True)\n",
    "\n",
    "\n",
    "confusion_matrix = metrics.confusion_matrix(labels, predicted)\n",
    "cm_display = metrics.ConfusionMatrixDisplay(confusion_matrix, display_labels=[\"unknown\", \"negative\", \"positive\"])\n",
    "cm_display.plot()\n",
    "plt.show() "
   ]
  },
  {
   "cell_type": "code",
   "execution_count": null,
   "metadata": {},
   "outputs": [],
   "source": [
    "# correct = 0\n",
    "\n",
    "# # for data in tqdm(amazon_dataset[:20]):\n",
    "# #     sentence = data[\"content\"]\n",
    "# #     label = data[\"label\"]\n",
    "# sentences = amazon_dataset[\"content\"][:20]\n",
    "# labels = amazon_dataset[\"label\"][:20]\n",
    "\n",
    "# predicted = []\n",
    "\n",
    "# for sentence, label in tqdm(zip(sentences, labels)):\n",
    "    \n",
    "\n",
    "#     prompt1 = f\"\"\"\n",
    "#     Given this sentence: \"{sentence}\"\n",
    "\n",
    "#     Your response should look like this: \"This sentence is: [Positive or Negative]\"\n",
    "#     Do not repeat the sentence above!\n",
    "#     Would you say this sentence is positive or negative?\n",
    "#     \"\"\"\n",
    "\n",
    "#     pred = sent_classifier(prompt1)\n",
    "#     predicted.append(pred)\n",
    "\n",
    "#     if pred == label:\n",
    "#         correct += 1\n",
    "\n",
    "# confusion_matrix = metrics.confusion_matrix(labels, predicted)\n",
    "# cm_display = metrics.ConfusionMatrixDisplay(confusion_matrix, display_labels=[\"unknown\", \"negative\", \"positive\"])\n",
    "# cm_display.plot()\n",
    "# plt.show() "
   ]
  },
  {
   "cell_type": "markdown",
   "metadata": {},
   "source": [
    "##### News dataset"
   ]
  },
  {
   "cell_type": "code",
   "execution_count": 38,
   "metadata": {},
   "outputs": [],
   "source": [
    "def news_classifier(prompt: str, dataset, n_samples: int, shuffle: bool = True):\n",
    "    if shuffle: dataset = dataset.shuffle()\n",
    "    \n",
    "    sentences = dataset[\"text\"][:n_samples]\n",
    "    labels = dataset[\"label\"][:n_samples]\n",
    "    predicted_labels = []\n",
    "    for sentence in tqdm(sentences,total=n_samples):\n",
    "        prompt1 = prompt.replace(\"SENTENCE\", sentence)\n",
    "        messages = [\n",
    "        {\n",
    "            \"role\": \"system\",\n",
    "            \"content\": \"You classify sentences, you indicate in which part of the newspaper they appear, the possible sections are given to you by the prompt.\",\n",
    "        },\n",
    "        {f\"role\": \"user\", \"content\": prompt1},\n",
    "        ]\n",
    "        prompt2 = pipe.tokenizer.apply_chat_template(messages, tokenize=False, add_generation_prompt=True)\n",
    "        outputs = pipe(prompt2, max_new_tokens=200, do_sample=True, temperature=0.7, top_k=50, top_p=0.95)\n",
    "        answer = outputs[0][\"generated_text\"].split(\"<|assistant|>\")[1]\n",
    "        print(answer)\n",
    "\n",
    "        answer = answer.lower()\n",
    "\n",
    "        if 'world news' in answer:\n",
    "            predicted_labels.append(1)\n",
    "        elif 'sports' in answer or 'sport' in answer:\n",
    "            predicted_labels.append(2)\n",
    "        elif 'business' in answer:\n",
    "            predicted_labels.append(3)\n",
    "        elif 'science' in answer or 'technology' in answer:\n",
    "            predicted_labels.append(4)\n",
    "        else:\n",
    "            predicted_labels.append(-1)\n",
    "\n",
    "    return predicted_labels, labels\n",
    "    "
   ]
  },
  {
   "cell_type": "code",
   "execution_count": 40,
   "metadata": {},
   "outputs": [
    {
     "data": {
      "application/vnd.jupyter.widget-view+json": {
       "model_id": "68e8de8ee2654d2caa27c57d243b930d",
       "version_major": 2,
       "version_minor": 0
      },
      "text/plain": [
       "  0%|          | 0/10 [00:00<?, ?it/s]"
      ]
     },
     "metadata": {},
     "output_type": "display_data"
    },
    {
     "name": "stdout",
     "output_type": "stream",
     "text": [
      "\n",
      "Based on the given text, \"US edge out Brazil for gold The United States beat Brazil 2-1 in extra time to win the women's Olympic football tournament.\", it would be appropriate to categorize it under the \"world news\" category.\n",
      "\n",
      "Based on the text, the category that best aligns with the possible sections of a newspaper is \"business.\" The sentence \"Dell recalls four million power adaptors\" indicates that it is a news article about a business event, such as a recall or safety alert, related to Dell's products.\n",
      "\n",
      "Based on the sentence \"RSS Feeds Hunger for More Ads There's no such thing as a free lunch. And soon, there may be no such thing as an ad-free RSS feed, either,\" I would classify this text as being a news article. News articles are typically written to inform, educate, or entertain readers about current events or happenings. The topic of this text, \"RSS Feeds Hunger for More Ads There's no such thing as a free lunch. And soon, there may be no such thing as an ad-free RSS feed, either,\" is not directly related to any particular news topic. Therefore, I would classify this text as being a news article.\n",
      "\n",
      "Based on the information provided in the given text, \"Time Warner settles AOL investigations for \\$510 million\" does not belong to the \"world news\" category. It is a business news article that discusses Time Warner's settlement with the Department of Justice for accounting irregularities at its Dulles-based America Online unit. The \"world news\" category is used to group articles that focus on world events, news, and issues.\n",
      "\n",
      "Based on the given text, \" #39;Blog #39 ; Tops Online Dictionary List short for  quot;Weblog quot;\" -- was the most-frequently requested definition at Merriam-Webster #39;s online dictionary site, the publisher says,\" is probably a news article that covers a recent event or issue. The text is likely to be part of a newspaper, either the online version of the newspaper or a printed newspaper. The word \"online\" in the text implies that the article is published online, which would fit within the \"world news\" category.\n",
      "\n",
      "Based on the sentence \"Frozen Eggs Showing Promise Italian researchers have achieved 13 human births using previously frozen eggs. It's encouraging for women who want to preserve their fertility, but efficiency is still low. By Kristen Philipkoski,\" I would classify this text as a news article in the \"business\" section.\n",
      "\n",
      "Based on the context of the text, \"Making it look easy CLEVELAND -- Their membership in the NFL elite entitles the Patriots to a gimme from time to time, like yesterday's 42-15 shellacking of the hapless Cleveland Browns.\", it can be reasonably assumed that the text belongs in the sports technology category. This is because the sentence uses sports-related terms, such as \"membership in the NFL,\" \"entitles,\" and \"gimme,\" in a way that suggests a connection to sports or sports-related activities. Additionally, the sentence describes a specific event, such as the Patriots' 42-15 shellacking of the Browns, which can be seen as a sports event that may be of interest to the sports technology community. Therefore, this text fits in the sports technology category.\n",
      "\n",
      "Based on the given text, \"Europe Must Adapt to U.S. View on Terror, NATO Chief Says\" and the context, \"The head of NATO said there was a critical \"perception gap\" between Europe and the U.S. On the subject of global terror,\" it is clear that the text falls under the category of \"world news.\"\n",
      "\n",
      "Based on the text, \"Mars Rovers Relay Images Through Mars Express European Space Agency -- ESAs Mars Express has relayed pictures from one of NASA's Mars rovers for the first time, as part of a set of interplanetary networking demonstrations. The demonstrations pave the way for future Mars missions to draw on joint interplanetary networking capabilities...\" It appears to be a news article about a news event.\n",
      "\n",
      "Based on the given sentence, \"Open Source Group Blasts Gartner For Linking Linux To Windows &lt;b&gt;...&lt;/b&gt; An Australian open-source industry group on Friday took exception to a Gartner report that pre-loading PCs with Linux is often a precursor to adding a pirated copy of Windows, calling the research  quot;farcical.\", it appears to be a news article from the business or science technology category.\n"
     ]
    },
    {
     "data": {
      "image/png": "[encoded data removed]",
      "text/plain": [
       "<Figure size 640x480 with 2 Axes>"
      ]
     },
     "metadata": {},
     "output_type": "display_data"
    }
   ],
   "source": [
    "prompt1 = \"\"\"\n",
    "    Given this sentence: \"SENTENCE\"\n",
    "\n",
    "    To which category of a newspaper do you think this text belongs? world news , sports , business or science technology ?\n",
    "    \"\"\"\n",
    "\n",
    "predicted, labels = news_classifier(prompt1, ag_news_dataset, 10, True)\n",
    "\n",
    "\n",
    "confusion_matrix = metrics.confusion_matrix(labels, predicted)\n",
    "cm_display = metrics.ConfusionMatrixDisplay(confusion_matrix, display_labels=[\"unknown\", \"world news\", \"sports\", \"business\", \"science technology\"])\n",
    "cm_display.plot()\n",
    "plt.show() "
   ]
  }
 ],
 "metadata": {
  "kernelspec": {
   "display_name": "TinyLLama",
   "language": "python",
   "name": "python3"
  },
  "language_info": {
   "codemirror_mode": {
    "name": "ipython",
    "version": 3
   },
   "file_extension": ".py",
   "mimetype": "text/x-python",
   "name": "python",
   "nbconvert_exporter": "python",
   "pygments_lexer": "ipython3",
   "version": "3.11.7"
  }
 },
 "nbformat": 4,
 "nbformat_minor": 2
}
